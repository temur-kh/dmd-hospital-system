{
 "cells": [
  {
   "cell_type": "markdown",
   "metadata": {
    "colab_type": "text",
    "id": "W5WV7fxlreR4"
   },
   "source": [
    "# DMD Project Database Querying"
   ]
  },
  {
   "cell_type": "code",
   "execution_count": 0,
   "metadata": {
    "colab": {},
    "colab_type": "code",
    "id": "WrsDqhbP7J2Z"
   },
   "outputs": [],
   "source": [
    "!pip install --upgrade firebase-admin"
   ]
  },
  {
   "cell_type": "code",
   "execution_count": 1,
   "metadata": {
    "colab": {},
    "colab_type": "code",
    "id": "n1wdnMf_7h6S"
   },
   "outputs": [],
   "source": [
    "import firebase_admin\n",
    "from firebase_admin import credentials\n",
    "from firebase_admin import firestore\n",
    "from firebase_admin import auth\n",
    "import pandas as pd\n",
    "from pprint import pprint\n",
    "from IPython.display import display\n",
    "from datetime import datetime, timedelta\n",
    "pd.set_option('display.max_columns', None)\n",
    "pd.set_option('max_colwidth', 1000)"
   ]
  },
  {
   "cell_type": "markdown",
   "metadata": {
    "colab_type": "text",
    "id": "BaJW1USWrqMh"
   },
   "source": [
    "## Establish connection"
   ]
  },
  {
   "cell_type": "code",
   "execution_count": 2,
   "metadata": {
    "colab": {},
    "colab_type": "code",
    "id": "rcDOqlMH7rbw"
   },
   "outputs": [],
   "source": [
    "def establish_creds():\n",
    "    # Use a service account\n",
    "    cred = credentials.Certificate('admin_cred.json')\n",
    "    firebase_admin.initialize_app(cred)\n",
    "establish_creds()"
   ]
  },
  {
   "cell_type": "code",
   "execution_count": 3,
   "metadata": {
    "colab": {},
    "colab_type": "code",
    "id": "VsGbT-fb7wdE"
   },
   "outputs": [],
   "source": [
    "db = firestore.client()"
   ]
  },
  {
   "cell_type": "code",
   "execution_count": 4,
   "metadata": {
    "colab": {},
    "colab_type": "code",
    "id": "9n39Dbxo72KI"
   },
   "outputs": [],
   "source": [
    "def print_doc(doc):\n",
    "    d = doc.to_dict()\n",
    "    df = pd.DataFrame([d], index=[doc.id])\n",
    "    display(df)\n",
    "\n",
    "def print_docs(docs):\n",
    "    for doc in docs:\n",
    "        print_doc(doc)\n",
    "\n",
    "def print_dict(doc):\n",
    "    pprint(doc.to_dict())\n",
    "\n",
    "def print_dicts(docs):\n",
    "    for doc in docs:\n",
    "        print_dict(doc)"
   ]
  },
  {
   "cell_type": "markdown",
   "metadata": {
    "colab_type": "text",
    "id": "8YccTICB8BL2"
   },
   "source": [
    "## read the Employees and Patients collections"
   ]
  },
  {
   "cell_type": "code",
   "execution_count": 5,
   "metadata": {
    "colab": {
     "base_uri": "https://localhost:8080/",
     "height": 327
    },
    "colab_type": "code",
    "id": "8trwALHQ74v7",
    "outputId": "4d11a829-26e1-4846-a3ef-37f61c00334f"
   },
   "outputs": [
    {
     "data": {
      "text/html": [
       "<div>\n",
       "<style scoped>\n",
       "    .dataframe tbody tr th:only-of-type {\n",
       "        vertical-align: middle;\n",
       "    }\n",
       "\n",
       "    .dataframe tbody tr th {\n",
       "        vertical-align: top;\n",
       "    }\n",
       "\n",
       "    .dataframe thead th {\n",
       "        text-align: right;\n",
       "    }\n",
       "</style>\n",
       "<table border=\"1\" class=\"dataframe\">\n",
       "  <thead>\n",
       "    <tr style=\"text-align: right;\">\n",
       "      <th></th>\n",
       "      <th>address</th>\n",
       "      <th>contactNumber</th>\n",
       "      <th>gender</th>\n",
       "      <th>name</th>\n",
       "      <th>role</th>\n",
       "      <th>salary</th>\n",
       "    </tr>\n",
       "  </thead>\n",
       "  <tbody>\n",
       "    <tr>\n",
       "      <th>0DKu7oIWmNibuW80AXy1</th>\n",
       "      <td>18459 Johnson Haven\\nSouth Stephanie, NY 70923</td>\n",
       "      <td>797.068.2595x62393</td>\n",
       "      <td>M</td>\n",
       "      <td>James Barnes</td>\n",
       "      <td>nurse</td>\n",
       "      <td>17540</td>\n",
       "    </tr>\n",
       "  </tbody>\n",
       "</table>\n",
       "</div>"
      ],
      "text/plain": [
       "                                                             address  \\\n",
       "0DKu7oIWmNibuW80AXy1  18459 Johnson Haven\\nSouth Stephanie, NY 70923   \n",
       "\n",
       "                           contactNumber gender          name   role  salary  \n",
       "0DKu7oIWmNibuW80AXy1  797.068.2595x62393      M  James Barnes  nurse   17540  "
      ]
     },
     "metadata": {},
     "output_type": "display_data"
    },
    {
     "data": {
      "text/html": [
       "<div>\n",
       "<style scoped>\n",
       "    .dataframe tbody tr th:only-of-type {\n",
       "        vertical-align: middle;\n",
       "    }\n",
       "\n",
       "    .dataframe tbody tr th {\n",
       "        vertical-align: top;\n",
       "    }\n",
       "\n",
       "    .dataframe thead th {\n",
       "        text-align: right;\n",
       "    }\n",
       "</style>\n",
       "<table border=\"1\" class=\"dataframe\">\n",
       "  <thead>\n",
       "    <tr style=\"text-align: right;\">\n",
       "      <th></th>\n",
       "      <th>address</th>\n",
       "      <th>contactNumber</th>\n",
       "      <th>gender</th>\n",
       "      <th>name</th>\n",
       "      <th>role</th>\n",
       "      <th>salary</th>\n",
       "      <th>status</th>\n",
       "    </tr>\n",
       "  </thead>\n",
       "  <tbody>\n",
       "    <tr>\n",
       "      <th>0Dnw3tOd3FrnPRUNZbUu</th>\n",
       "      <td>300 Brown Mews Apt. 012\\nNorth Ryan, ME 90964</td>\n",
       "      <td>898.180.7691</td>\n",
       "      <td>F</td>\n",
       "      <td>Amanda Murphy</td>\n",
       "      <td>doctor</td>\n",
       "      <td>31600</td>\n",
       "      <td>permanent</td>\n",
       "    </tr>\n",
       "  </tbody>\n",
       "</table>\n",
       "</div>"
      ],
      "text/plain": [
       "                                                            address  \\\n",
       "0Dnw3tOd3FrnPRUNZbUu  300 Brown Mews Apt. 012\\nNorth Ryan, ME 90964   \n",
       "\n",
       "                     contactNumber gender           name    role  salary  \\\n",
       "0Dnw3tOd3FrnPRUNZbUu  898.180.7691      F  Amanda Murphy  doctor   31600   \n",
       "\n",
       "                         status  \n",
       "0Dnw3tOd3FrnPRUNZbUu  permanent  "
      ]
     },
     "metadata": {},
     "output_type": "display_data"
    },
    {
     "data": {
      "text/html": [
       "<div>\n",
       "<style scoped>\n",
       "    .dataframe tbody tr th:only-of-type {\n",
       "        vertical-align: middle;\n",
       "    }\n",
       "\n",
       "    .dataframe tbody tr th {\n",
       "        vertical-align: top;\n",
       "    }\n",
       "\n",
       "    .dataframe thead th {\n",
       "        text-align: right;\n",
       "    }\n",
       "</style>\n",
       "<table border=\"1\" class=\"dataframe\">\n",
       "  <thead>\n",
       "    <tr style=\"text-align: right;\">\n",
       "      <th></th>\n",
       "      <th>address</th>\n",
       "      <th>contactNumber</th>\n",
       "      <th>gender</th>\n",
       "      <th>name</th>\n",
       "      <th>role</th>\n",
       "      <th>salary</th>\n",
       "      <th>status</th>\n",
       "    </tr>\n",
       "  </thead>\n",
       "  <tbody>\n",
       "    <tr>\n",
       "      <th>0FJVjirro8ehObVMp4NB</th>\n",
       "      <td>7798 Parker Turnpike Apt. 223\\nWest Jennifer, AL 32862</td>\n",
       "      <td>(138)796-0864</td>\n",
       "      <td>M</td>\n",
       "      <td>James Scott</td>\n",
       "      <td>doctor</td>\n",
       "      <td>27210</td>\n",
       "      <td>permanent</td>\n",
       "    </tr>\n",
       "  </tbody>\n",
       "</table>\n",
       "</div>"
      ],
      "text/plain": [
       "                                                                     address  \\\n",
       "0FJVjirro8ehObVMp4NB  7798 Parker Turnpike Apt. 223\\nWest Jennifer, AL 32862   \n",
       "\n",
       "                      contactNumber gender         name    role  salary  \\\n",
       "0FJVjirro8ehObVMp4NB  (138)796-0864      M  James Scott  doctor   27210   \n",
       "\n",
       "                         status  \n",
       "0FJVjirro8ehObVMp4NB  permanent  "
      ]
     },
     "metadata": {},
     "output_type": "display_data"
    },
    {
     "data": {
      "text/html": [
       "<div>\n",
       "<style scoped>\n",
       "    .dataframe tbody tr th:only-of-type {\n",
       "        vertical-align: middle;\n",
       "    }\n",
       "\n",
       "    .dataframe tbody tr th {\n",
       "        vertical-align: top;\n",
       "    }\n",
       "\n",
       "    .dataframe thead th {\n",
       "        text-align: right;\n",
       "    }\n",
       "</style>\n",
       "<table border=\"1\" class=\"dataframe\">\n",
       "  <thead>\n",
       "    <tr style=\"text-align: right;\">\n",
       "      <th></th>\n",
       "      <th>address</th>\n",
       "      <th>contactNumber</th>\n",
       "      <th>gender</th>\n",
       "      <th>name</th>\n",
       "      <th>role</th>\n",
       "      <th>salary</th>\n",
       "    </tr>\n",
       "  </thead>\n",
       "  <tbody>\n",
       "    <tr>\n",
       "      <th>0Q2uajUrTnjy7GrnyjsL</th>\n",
       "      <td>548 Walter Springs\\nNorth Mark, AK 99647</td>\n",
       "      <td>+1-379-356-2954x8517</td>\n",
       "      <td>F</td>\n",
       "      <td>Mrs. Pamela Watson</td>\n",
       "      <td>pharmacist</td>\n",
       "      <td>16590</td>\n",
       "    </tr>\n",
       "  </tbody>\n",
       "</table>\n",
       "</div>"
      ],
      "text/plain": [
       "                                                       address  \\\n",
       "0Q2uajUrTnjy7GrnyjsL  548 Walter Springs\\nNorth Mark, AK 99647   \n",
       "\n",
       "                             contactNumber gender                name  \\\n",
       "0Q2uajUrTnjy7GrnyjsL  +1-379-356-2954x8517      F  Mrs. Pamela Watson   \n",
       "\n",
       "                            role  salary  \n",
       "0Q2uajUrTnjy7GrnyjsL  pharmacist   16590  "
      ]
     },
     "metadata": {},
     "output_type": "display_data"
    },
    {
     "data": {
      "text/html": [
       "<div>\n",
       "<style scoped>\n",
       "    .dataframe tbody tr th:only-of-type {\n",
       "        vertical-align: middle;\n",
       "    }\n",
       "\n",
       "    .dataframe tbody tr th {\n",
       "        vertical-align: top;\n",
       "    }\n",
       "\n",
       "    .dataframe thead th {\n",
       "        text-align: right;\n",
       "    }\n",
       "</style>\n",
       "<table border=\"1\" class=\"dataframe\">\n",
       "  <thead>\n",
       "    <tr style=\"text-align: right;\">\n",
       "      <th></th>\n",
       "      <th>address</th>\n",
       "      <th>contactNumber</th>\n",
       "      <th>gender</th>\n",
       "      <th>name</th>\n",
       "      <th>role</th>\n",
       "      <th>salary</th>\n",
       "    </tr>\n",
       "  </thead>\n",
       "  <tbody>\n",
       "    <tr>\n",
       "      <th>0QrhT2RErKsvSVzjDzj9</th>\n",
       "      <td>821 Wheeler Trafficway\\nLake Jennifer, AK 18945</td>\n",
       "      <td>006-382-7945</td>\n",
       "      <td>F</td>\n",
       "      <td>Vanessa Knight</td>\n",
       "      <td>nurse</td>\n",
       "      <td>19450</td>\n",
       "    </tr>\n",
       "  </tbody>\n",
       "</table>\n",
       "</div>"
      ],
      "text/plain": [
       "                                                              address  \\\n",
       "0QrhT2RErKsvSVzjDzj9  821 Wheeler Trafficway\\nLake Jennifer, AK 18945   \n",
       "\n",
       "                     contactNumber gender            name   role  salary  \n",
       "0QrhT2RErKsvSVzjDzj9  006-382-7945      F  Vanessa Knight  nurse   19450  "
      ]
     },
     "metadata": {},
     "output_type": "display_data"
    }
   ],
   "source": [
    "users_ref = db.collection(\"employees\").limit(5)\n",
    "docs = users_ref.stream()\n",
    "print_docs(docs)"
   ]
  },
  {
   "cell_type": "code",
   "execution_count": 6,
   "metadata": {
    "colab": {},
    "colab_type": "code",
    "id": "2EzBYTeT8KOc"
   },
   "outputs": [],
   "source": [
    "def get_docs(db, collection, limit=5):\n",
    "    return db.collection(collection).limit(limit).stream()"
   ]
  },
  {
   "cell_type": "code",
   "execution_count": 7,
   "metadata": {
    "colab": {
     "base_uri": "https://localhost:8080/",
     "height": 1352
    },
    "colab_type": "code",
    "id": "GXRINpZK9Fng",
    "outputId": "af69439d-47f5-4b7f-8497-81ab0d3ebb66",
    "scrolled": true
   },
   "outputs": [
    {
     "name": "stdout",
     "output_type": "stream",
     "text": [
      "{'address': '3978 Charles Point Apt. 831\\nMichaelton, ID 49992',\n",
      " 'contactNumber': '+1-161-220-3424x339',\n",
      " 'email': 'idixon@yahoo.com',\n",
      " 'gender': 'M',\n",
      " 'medHistory': [{'date': DatetimeWithNanoseconds(2018, 2, 25, 20, 8, 30, tzinfo=<UTC>),\n",
      "                 'note': 'Debate scene line only than hard receive. Congress '\n",
      "                         'charge agree right treatment action much. Without '\n",
      "                         'risk remember laugh free spring.',\n",
      "                 'prescription': None},\n",
      "                {'date': DatetimeWithNanoseconds(2018, 4, 13, 6, 1, 30, tzinfo=<UTC>),\n",
      "                 'note': 'South read specific south. Film fine family career.',\n",
      "                 'prescription': None},\n",
      "                {'date': DatetimeWithNanoseconds(2018, 6, 6, 7, 46, 21, tzinfo=<UTC>),\n",
      "                 'note': 'Common stop us door able human red. Sign democratic '\n",
      "                         'former value commercial money while.',\n",
      "                 'prescription': None}],\n",
      " 'name': 'Philip Hill'}\n",
      "{'address': '173 Connor Green Suite 865\\nWest Timothymouth, NV 19184',\n",
      " 'contactNumber': '268-720-1904',\n",
      " 'email': 'solomonkaren@gmail.com',\n",
      " 'gender': 'F',\n",
      " 'medHistory': [{'date': DatetimeWithNanoseconds(2018, 4, 10, 5, 51, 14, tzinfo=<UTC>),\n",
      "                 'note': 'Success near in ago whom then. Chair provide break '\n",
      "                         'member some glass car. Through food decision trial. '\n",
      "                         'Pretty play itself head.',\n",
      "                 'prescription': None},\n",
      "                {'date': DatetimeWithNanoseconds(2018, 5, 4, 10, 52, 29, tzinfo=<UTC>),\n",
      "                 'note': 'Focus number today turn arrive president. My same '\n",
      "                         'everything to growth recent.',\n",
      "                 'prescription': None}],\n",
      " 'name': 'Andrea Valenzuela'}\n",
      "{'address': '704 Brown Crest\\nMaysport, WI 60514',\n",
      " 'contactNumber': '+1-648-565-2726x8569',\n",
      " 'email': 'hsantiago@hotmail.com',\n",
      " 'gender': 'M',\n",
      " 'medHistory': [{'date': DatetimeWithNanoseconds(2018, 12, 17, 11, 36, 20, tzinfo=<UTC>),\n",
      "                 'note': 'Low voice imagine general shoulder offer. Stay '\n",
      "                         'environment this mouth somebody performance grow. '\n",
      "                         'Same order want door challenge indicate nothing.',\n",
      "                 'prescription': None}],\n",
      " 'name': 'Alan Allen'}\n",
      "{'address': '902 Williams Streets\\nJohnville, AR 52331',\n",
      " 'contactNumber': '173.431.3926x4191',\n",
      " 'email': 'dthompson@gmail.com',\n",
      " 'gender': 'M',\n",
      " 'medHistory': [{'date': DatetimeWithNanoseconds(2018, 4, 30, 22, 12, 53, tzinfo=<UTC>),\n",
      "                 'note': 'Generation citizen might question close night. '\n",
      "                         'Perhaps interview majority glass professional fire. '\n",
      "                         'Indeed rise cold shake state commercial vote bank.',\n",
      "                 'prescription': None},\n",
      "                {'date': DatetimeWithNanoseconds(2018, 7, 2, 4, 56, 28, tzinfo=<UTC>),\n",
      "                 'note': 'Tax chance better situation candidate. Past pass '\n",
      "                         'generation poor.',\n",
      "                 'prescription': None},\n",
      "                {'date': DatetimeWithNanoseconds(2018, 7, 5, 2, 3, 39, tzinfo=<UTC>),\n",
      "                 'note': 'Address treatment too dark point stock such. '\n",
      "                         'Shoulder would change long marriage determine. Later '\n",
      "                         'what particularly science rock particular sing.',\n",
      "                 'prescription': None}],\n",
      " 'name': 'Ryan Johnson'}\n",
      "{'address': '63341 Perkins Estate Suite 820\\nLowerymouth, NH 93567',\n",
      " 'contactNumber': '001-561-060-2677x97244',\n",
      " 'email': 'xjordan@gmail.com',\n",
      " 'gender': 'M',\n",
      " 'medHistory': [{'date': DatetimeWithNanoseconds(2018, 12, 16, 23, 11, 2, tzinfo=<UTC>),\n",
      "                 'note': 'Mouth grow finally suggest shoulder president. Key '\n",
      "                         'life body population test American. Spend protect '\n",
      "                         'today risk other.',\n",
      "                 'prescription': None},\n",
      "                {'date': DatetimeWithNanoseconds(2018, 8, 29, 11, 42, 39, tzinfo=<UTC>),\n",
      "                 'note': 'Design individual strong fact.',\n",
      "                 'prescription': None},\n",
      "                {'date': DatetimeWithNanoseconds(2018, 9, 1, 4, 36, 44, tzinfo=<UTC>),\n",
      "                 'note': 'Leg these best agency must partner hope nation. Time '\n",
      "                         'smile challenge north gas himself office.',\n",
      "                 'prescription': None}],\n",
      " 'name': 'Alex Cabrera'}\n"
     ]
    }
   ],
   "source": [
    "patients = get_docs(db, 'patients')\n",
    "print_dicts(patients)"
   ]
  },
  {
   "cell_type": "markdown",
   "metadata": {
    "colab_type": "text",
    "id": "11-OVgw1wqw7"
   },
   "source": [
    "## add a new employee (also register him as a user)"
   ]
  },
  {
   "cell_type": "code",
   "execution_count": 8,
   "metadata": {
    "colab": {},
    "colab_type": "code",
    "id": "1fLsLa2O9Xdj"
   },
   "outputs": [],
   "source": [
    "new_employee = {\n",
    "    'address': 'Innopolis',\n",
    "    'contactNumber': '+79731577181',\n",
    "    'email': 'r.maksudov@innopolis.ru',\n",
    "    'gender': 'M',\n",
    "    'name': 'Rishat Maksudov',\n",
    "    'role': 'Nurse',\n",
    "    'salary': 12000,\n",
    "}"
   ]
  },
  {
   "cell_type": "code",
   "execution_count": 9,
   "metadata": {
    "colab": {},
    "colab_type": "code",
    "id": "T7WWPenRAs8N"
   },
   "outputs": [],
   "source": [
    "def register_user(collection, data, password):\n",
    "    ref = db.collection(collection).document()\n",
    "    ref.set(data)\n",
    "    user = auth.create_user(email=data['email'], phone_number=data['contactNumber'], password=password)\n",
    "    print('Sucessfully created new user: {0}'.format(user.uid))\n",
    "    return ref, user.uid"
   ]
  },
  {
   "cell_type": "code",
   "execution_count": 10,
   "metadata": {
    "colab": {
     "base_uri": "https://localhost:8080/",
     "height": 35
    },
    "colab_type": "code",
    "id": "3MslmRd_A-p5",
    "outputId": "f616ac10-f916-47c5-a4fc-f3e026d9ebc2"
   },
   "outputs": [
    {
     "name": "stdout",
     "output_type": "stream",
     "text": [
      "Sucessfully created new user: V2EvWvQmpRTe21fAnFSSAPgn30l2\n"
     ]
    }
   ],
   "source": [
    "employee_ref, employee_uid = register_user('employees', new_employee, '1234567890aA')"
   ]
  },
  {
   "cell_type": "markdown",
   "metadata": {
    "colab_type": "text",
    "id": "xWLLIDWFrUbW"
   },
   "source": [
    "**Check it!**\n",
    "\n",
    "**See Sign-in Operation on Website Demo**"
   ]
  },
  {
   "cell_type": "markdown",
   "metadata": {
    "colab_type": "text",
    "id": "xJ83b4kox1Ou"
   },
   "source": [
    "## update information of the employee"
   ]
  },
  {
   "cell_type": "code",
   "execution_count": 11,
   "metadata": {
    "colab": {},
    "colab_type": "code",
    "id": "E_anqZkXP-Fw"
   },
   "outputs": [],
   "source": [
    "def edit_profile(ref, data):\n",
    "    employee_ref.update(data)"
   ]
  },
  {
   "cell_type": "code",
   "execution_count": 12,
   "metadata": {
    "colab": {},
    "colab_type": "code",
    "id": "b8okwmJi68mA"
   },
   "outputs": [],
   "source": [
    "edit_profile(employee_ref, {\n",
    "      'role': 'doctor',\n",
    "      'status': 'intern',\n",
    "      'salary': 18000,\n",
    "  })"
   ]
  },
  {
   "cell_type": "code",
   "execution_count": 13,
   "metadata": {
    "colab": {
     "base_uri": "https://localhost:8080/",
     "height": 79
    },
    "colab_type": "code",
    "id": "z_CYo3GaylQ_",
    "outputId": "96003aa1-c1c7-4feb-ea82-04c7ed9d94dd"
   },
   "outputs": [
    {
     "data": {
      "text/html": [
       "<div>\n",
       "<style scoped>\n",
       "    .dataframe tbody tr th:only-of-type {\n",
       "        vertical-align: middle;\n",
       "    }\n",
       "\n",
       "    .dataframe tbody tr th {\n",
       "        vertical-align: top;\n",
       "    }\n",
       "\n",
       "    .dataframe thead th {\n",
       "        text-align: right;\n",
       "    }\n",
       "</style>\n",
       "<table border=\"1\" class=\"dataframe\">\n",
       "  <thead>\n",
       "    <tr style=\"text-align: right;\">\n",
       "      <th></th>\n",
       "      <th>address</th>\n",
       "      <th>contactNumber</th>\n",
       "      <th>email</th>\n",
       "      <th>gender</th>\n",
       "      <th>name</th>\n",
       "      <th>role</th>\n",
       "      <th>salary</th>\n",
       "      <th>status</th>\n",
       "    </tr>\n",
       "  </thead>\n",
       "  <tbody>\n",
       "    <tr>\n",
       "      <th>ALfUjLrj1evKmJtb227P</th>\n",
       "      <td>Innopolis</td>\n",
       "      <td>+79731577181</td>\n",
       "      <td>r.maksudov@innopolis.ru</td>\n",
       "      <td>M</td>\n",
       "      <td>Rishat Maksudov</td>\n",
       "      <td>doctor</td>\n",
       "      <td>18000</td>\n",
       "      <td>intern</td>\n",
       "    </tr>\n",
       "  </tbody>\n",
       "</table>\n",
       "</div>"
      ],
      "text/plain": [
       "                        address contactNumber                    email gender  \\\n",
       "ALfUjLrj1evKmJtb227P  Innopolis  +79731577181  r.maksudov@innopolis.ru      M   \n",
       "\n",
       "                                 name    role  salary  status  \n",
       "ALfUjLrj1evKmJtb227P  Rishat Maksudov  doctor   18000  intern  "
      ]
     },
     "metadata": {},
     "output_type": "display_data"
    }
   ],
   "source": [
    "print_doc(employee_ref.get())"
   ]
  },
  {
   "cell_type": "markdown",
   "metadata": {
    "colab_type": "text",
    "id": "i0dbbdgQyQMn"
   },
   "source": [
    "## delete the user as well as document from collection of Employees"
   ]
  },
  {
   "cell_type": "code",
   "execution_count": 14,
   "metadata": {
    "colab": {
     "base_uri": "https://localhost:8080/",
     "height": 35
    },
    "colab_type": "code",
    "id": "TeAYvXLUvy2B",
    "outputId": "c69c1376-4c3d-4581-cdbe-e9d96ef6c0f7"
   },
   "outputs": [
    {
     "name": "stdout",
     "output_type": "stream",
     "text": [
      "Successfully deleted user\n"
     ]
    }
   ],
   "source": [
    "employee_ref.delete()\n",
    "auth.delete_user(employee_uid)\n",
    "print('Successfully deleted user')"
   ]
  },
  {
   "cell_type": "markdown",
   "metadata": {
    "colab_type": "text",
    "id": "wlvScu6-0VCh"
   },
   "source": [
    "## get a chat of a patient with a doctor"
   ]
  },
  {
   "cell_type": "code",
   "execution_count": 21,
   "metadata": {
    "colab": {},
    "colab_type": "code",
    "id": "bs3jfQST0ndH"
   },
   "outputs": [],
   "source": [
    "doctor = db.collection('employees').document('GqzbDbOpk9YvbWIYg6Kb')\n",
    "patient = db.collection('patients').document('zEVeX6F0w0QdWf5tUAfs')"
   ]
  },
  {
   "cell_type": "code",
   "execution_count": 22,
   "metadata": {
    "colab": {},
    "colab_type": "code",
    "id": "Ua1dSZhFvyzZ"
   },
   "outputs": [],
   "source": [
    "def get_chat_messages(doctor, patient):\n",
    "    docs = db.collection('chats').where('doctor', '==', doctor).where('patient', '==', patient).stream()\n",
    "    for doc in docs:\n",
    "        print_dict(doc)"
   ]
  },
  {
   "cell_type": "code",
   "execution_count": 23,
   "metadata": {
    "colab": {
     "base_uri": "https://localhost:8080/",
     "height": 468
    },
    "colab_type": "code",
    "id": "yDtKBFe-vyxQ",
    "outputId": "76308f6c-da6c-4cd1-d5f2-a37d934c687a"
   },
   "outputs": [],
   "source": [
    "get_chat_messages(doctor, patient)"
   ]
  },
  {
   "cell_type": "markdown",
   "metadata": {
    "colab_type": "text",
    "id": "K1nqzJjDAob-"
   },
   "source": [
    "## get a list of medicines with expiration date due to some date/time"
   ]
  },
  {
   "cell_type": "code",
   "execution_count": 25,
   "metadata": {
    "colab": {},
    "colab_type": "code",
    "id": "nWt-0HKEvyum"
   },
   "outputs": [],
   "source": [
    "def get_medicines_by_exp_date(exp_date):\n",
    "    return db.collection('medicines').limit(10).where('expDate', '<', exp_date).stream()"
   ]
  },
  {
   "cell_type": "code",
   "execution_count": 26,
   "metadata": {
    "colab": {
     "base_uri": "https://localhost:8080/",
     "height": 141
    },
    "colab_type": "code",
    "id": "LThlk4YavysJ",
    "outputId": "1d97f0d6-4390-4943-91e5-baf7d5315f6b"
   },
   "outputs": [
    {
     "data": {
      "text/html": [
       "<div>\n",
       "<style scoped>\n",
       "    .dataframe tbody tr th:only-of-type {\n",
       "        vertical-align: middle;\n",
       "    }\n",
       "\n",
       "    .dataframe tbody tr th {\n",
       "        vertical-align: top;\n",
       "    }\n",
       "\n",
       "    .dataframe thead th {\n",
       "        text-align: right;\n",
       "    }\n",
       "</style>\n",
       "<table border=\"1\" class=\"dataframe\">\n",
       "  <thead>\n",
       "    <tr style=\"text-align: right;\">\n",
       "      <th></th>\n",
       "      <th>expDate</th>\n",
       "      <th>name</th>\n",
       "      <th>price</th>\n",
       "      <th>quantity</th>\n",
       "      <th>sold</th>\n",
       "    </tr>\n",
       "  </thead>\n",
       "  <tbody>\n",
       "    <tr>\n",
       "      <th>iAAzwZ75hSCUuJhEd09U</th>\n",
       "      <td>2019-04-23 21:41:36+00:00</td>\n",
       "      <td>Zinerit</td>\n",
       "      <td>270</td>\n",
       "      <td>89 unit(s)</td>\n",
       "      <td>True</td>\n",
       "    </tr>\n",
       "  </tbody>\n",
       "</table>\n",
       "</div>"
      ],
      "text/plain": [
       "                                       expDate     name  price    quantity  \\\n",
       "iAAzwZ75hSCUuJhEd09U 2019-04-23 21:41:36+00:00  Zinerit    270  89 unit(s)   \n",
       "\n",
       "                      sold  \n",
       "iAAzwZ75hSCUuJhEd09U  True  "
      ]
     },
     "metadata": {},
     "output_type": "display_data"
    },
    {
     "data": {
      "text/html": [
       "<div>\n",
       "<style scoped>\n",
       "    .dataframe tbody tr th:only-of-type {\n",
       "        vertical-align: middle;\n",
       "    }\n",
       "\n",
       "    .dataframe tbody tr th {\n",
       "        vertical-align: top;\n",
       "    }\n",
       "\n",
       "    .dataframe thead th {\n",
       "        text-align: right;\n",
       "    }\n",
       "</style>\n",
       "<table border=\"1\" class=\"dataframe\">\n",
       "  <thead>\n",
       "    <tr style=\"text-align: right;\">\n",
       "      <th></th>\n",
       "      <th>expDate</th>\n",
       "      <th>name</th>\n",
       "      <th>price</th>\n",
       "      <th>quantity</th>\n",
       "      <th>sold</th>\n",
       "    </tr>\n",
       "  </thead>\n",
       "  <tbody>\n",
       "    <tr>\n",
       "      <th>PN0cfTKBXT6DUx6pNv3z</th>\n",
       "      <td>2019-04-24 00:19:43+00:00</td>\n",
       "      <td>Zantak</td>\n",
       "      <td>175</td>\n",
       "      <td>17 unit(s)</td>\n",
       "      <td>True</td>\n",
       "    </tr>\n",
       "  </tbody>\n",
       "</table>\n",
       "</div>"
      ],
      "text/plain": [
       "                                       expDate    name  price    quantity  \\\n",
       "PN0cfTKBXT6DUx6pNv3z 2019-04-24 00:19:43+00:00  Zantak    175  17 unit(s)   \n",
       "\n",
       "                      sold  \n",
       "PN0cfTKBXT6DUx6pNv3z  True  "
      ]
     },
     "metadata": {},
     "output_type": "display_data"
    },
    {
     "data": {
      "text/html": [
       "<div>\n",
       "<style scoped>\n",
       "    .dataframe tbody tr th:only-of-type {\n",
       "        vertical-align: middle;\n",
       "    }\n",
       "\n",
       "    .dataframe tbody tr th {\n",
       "        vertical-align: top;\n",
       "    }\n",
       "\n",
       "    .dataframe thead th {\n",
       "        text-align: right;\n",
       "    }\n",
       "</style>\n",
       "<table border=\"1\" class=\"dataframe\">\n",
       "  <thead>\n",
       "    <tr style=\"text-align: right;\">\n",
       "      <th></th>\n",
       "      <th>expDate</th>\n",
       "      <th>name</th>\n",
       "      <th>price</th>\n",
       "      <th>quantity</th>\n",
       "      <th>sold</th>\n",
       "    </tr>\n",
       "  </thead>\n",
       "  <tbody>\n",
       "    <tr>\n",
       "      <th>ey3HJEprSRXPv6GNJ4TZ</th>\n",
       "      <td>2019-04-24 03:06:35+00:00</td>\n",
       "      <td>Itrazol</td>\n",
       "      <td>40</td>\n",
       "      <td>66 ml</td>\n",
       "      <td>True</td>\n",
       "    </tr>\n",
       "  </tbody>\n",
       "</table>\n",
       "</div>"
      ],
      "text/plain": [
       "                                       expDate     name  price quantity  sold\n",
       "ey3HJEprSRXPv6GNJ4TZ 2019-04-24 03:06:35+00:00  Itrazol     40    66 ml  True"
      ]
     },
     "metadata": {},
     "output_type": "display_data"
    },
    {
     "data": {
      "text/html": [
       "<div>\n",
       "<style scoped>\n",
       "    .dataframe tbody tr th:only-of-type {\n",
       "        vertical-align: middle;\n",
       "    }\n",
       "\n",
       "    .dataframe tbody tr th {\n",
       "        vertical-align: top;\n",
       "    }\n",
       "\n",
       "    .dataframe thead th {\n",
       "        text-align: right;\n",
       "    }\n",
       "</style>\n",
       "<table border=\"1\" class=\"dataframe\">\n",
       "  <thead>\n",
       "    <tr style=\"text-align: right;\">\n",
       "      <th></th>\n",
       "      <th>expDate</th>\n",
       "      <th>name</th>\n",
       "      <th>price</th>\n",
       "      <th>quantity</th>\n",
       "      <th>sold</th>\n",
       "    </tr>\n",
       "  </thead>\n",
       "  <tbody>\n",
       "    <tr>\n",
       "      <th>wZXDMmNTdyKfKf3NCPM1</th>\n",
       "      <td>2019-04-24 03:08:36+00:00</td>\n",
       "      <td>Itrazol</td>\n",
       "      <td>40</td>\n",
       "      <td>97 ml</td>\n",
       "      <td>True</td>\n",
       "    </tr>\n",
       "  </tbody>\n",
       "</table>\n",
       "</div>"
      ],
      "text/plain": [
       "                                       expDate     name  price quantity  sold\n",
       "wZXDMmNTdyKfKf3NCPM1 2019-04-24 03:08:36+00:00  Itrazol     40    97 ml  True"
      ]
     },
     "metadata": {},
     "output_type": "display_data"
    }
   ],
   "source": [
    "date = datetime.now() + timedelta(days=0, hours=-5)\n",
    "query = get_medicines_by_exp_date(date)\n",
    "print_docs(query)"
   ]
  },
  {
   "cell_type": "markdown",
   "metadata": {
    "colab_type": "text",
    "id": "AGyaFrAZCrcb"
   },
   "source": [
    "## more complicated stuff\n",
    " **Imitate the prescription writing and patient's action to buy the medicines using this prescription**"
   ]
  },
  {
   "cell_type": "code",
   "execution_count": 30,
   "metadata": {
    "colab": {},
    "colab_type": "code",
    "id": "V-R1F_VLDwq3"
   },
   "outputs": [],
   "source": [
    "def get_one_doctor(db):\n",
    "    docs = db.collection('employees').limit(20).where('role', '==', 'doctor').limit(1).stream()\n",
    "    for doc in docs:\n",
    "        return doc\n",
    "\n",
    "def get_one_patient(db):\n",
    "    docs = db.collection('patients').limit(1).stream()\n",
    "    for doc in docs:\n",
    "        return doc\n",
    "\n",
    "def get_not_sold_medicines(db, limit=3):\n",
    "    docs = db.collection('medicines').limit(40).where('sold', '==', False).limit(limit).stream()\n",
    "    return docs"
   ]
  },
  {
   "cell_type": "code",
   "execution_count": 28,
   "metadata": {
    "colab": {},
    "colab_type": "code",
    "id": "lqf90-HGCsol"
   },
   "outputs": [],
   "source": [
    "def write_a_prescription(db, doctor, patient, description, med_list):\n",
    "    date = datetime.now()\n",
    "    data = {\n",
    "      'doctor': doctor,\n",
    "      'patient': patient,\n",
    "      'date': date,\n",
    "      'description': description,\n",
    "      'medList': med_list,\n",
    "    }\n",
    "    ref = db.collection('prescriptions').document()\n",
    "    ref.set(data)\n",
    "    print(\"Successfully wrote a prescription\")\n",
    "    return ref"
   ]
  },
  {
   "cell_type": "markdown",
   "metadata": {
    "colab_type": "text",
    "id": "GMHCRTzIMOPl"
   },
   "source": [
    "**get a doctor and a patient as well as a list of medicines, write a prescription**"
   ]
  },
  {
   "cell_type": "code",
   "execution_count": 31,
   "metadata": {
    "colab": {},
    "colab_type": "code",
    "id": "GM8IKKP5GGhD"
   },
   "outputs": [
    {
     "name": "stdout",
     "output_type": "stream",
     "text": [
      "Successfully wrote a prescription\n"
     ]
    }
   ],
   "source": [
    "doctor = get_one_doctor(db).reference\n",
    "patient = get_one_patient(db).reference\n",
    "med_list = [med.reference for med in get_not_sold_medicines(db)]\n",
    "\n",
    "prescr_ref = write_a_prescription(db, doctor, patient, \"Description\", med_list)"
   ]
  },
  {
   "cell_type": "code",
   "execution_count": 32,
   "metadata": {
    "colab": {
     "base_uri": "https://localhost:8080/",
     "height": 139
    },
    "colab_type": "code",
    "id": "-VojFyAtJum7",
    "outputId": "882019df-e8bf-4700-8cbb-0158ff6b6589"
   },
   "outputs": [
    {
     "name": "stdout",
     "output_type": "stream",
     "text": [
      "{'date': DatetimeWithNanoseconds(2019, 4, 24, 10, 36, 19, 218490, tzinfo=<UTC>),\n",
      " 'description': 'Description',\n",
      " 'doctor': <google.cloud.firestore_v1.document.DocumentReference object at 0x7f8ac951af28>,\n",
      " 'medList': [<google.cloud.firestore_v1.document.DocumentReference object at 0x7f8ac951a5c0>,\n",
      "             <google.cloud.firestore_v1.document.DocumentReference object at 0x7f8ac951ae80>,\n",
      "             <google.cloud.firestore_v1.document.DocumentReference object at 0x7f8ac951ab38>],\n",
      " 'patient': <google.cloud.firestore_v1.document.DocumentReference object at 0x7f8ac951aba8>}\n"
     ]
    }
   ],
   "source": [
    "print_dict(prescr_ref.get())"
   ]
  },
  {
   "cell_type": "code",
   "execution_count": 33,
   "metadata": {
    "colab": {},
    "colab_type": "code",
    "id": "AJK0iVGLGU1G"
   },
   "outputs": [],
   "source": [
    "class Bill:\n",
    "    def __init__(self, db: firestore, med_refs, buyer_ref):\n",
    "        self.db = db\n",
    "        self.collection = 'bills'\n",
    "        self.date = datetime.now()\n",
    "        self.buyer = buyer_ref\n",
    "        self.medList = med_refs\n",
    "        self.ref = None\n",
    "        self.id = None\n",
    "\n",
    "    def to_dict(self):\n",
    "        return {\n",
    "            u'date': self.date,\n",
    "            u'buyer': self.buyer,\n",
    "            u'medList': self.medList,\n",
    "        }\n",
    "\n",
    "    def save(self):\n",
    "        self.ref = self.db.collection(self.collection).document()\n",
    "        self.id = self.ref.id\n",
    "        self.ref.set(self.to_dict())\n",
    "        return self.ref"
   ]
  },
  {
   "cell_type": "markdown",
   "metadata": {
    "colab_type": "text",
    "id": "avOYP6mRMXoj"
   },
   "source": [
    "**functionality to buy medicines**"
   ]
  },
  {
   "cell_type": "code",
   "execution_count": 34,
   "metadata": {
    "colab": {},
    "colab_type": "code",
    "id": "TsWMNiJivypv"
   },
   "outputs": [],
   "source": [
    "def find_medicines(db, med_list):\n",
    "    med_docs = []\n",
    "    for ref in med_list:\n",
    "        med = ref.get().to_dict()\n",
    "        docs = db.collection('medicines').limit(50).where('name', '==', med['name']).where('sold', '==', False).limit(1).stream()\n",
    "        for doc in docs:\n",
    "            med_docs.append(doc.reference)\n",
    "            break\n",
    "    return med_docs\n",
    "\n",
    "def buy_medicines(db, prescription):\n",
    "    # create a bill\n",
    "    prescr_doc = prescription.get().to_dict()\n",
    "    buyer = prescr_doc['patient']\n",
    "    med_docs = find_medicines(db, prescr_doc['medList'])\n",
    "    bill = Bill(db, med_docs, prescr_doc['patient'])\n",
    "    bill.save()\n",
    "  \n",
    "    # update bills list of prescription\n",
    "    prescription.update({'bills': [bill.ref]})\n",
    "\n",
    "    # check medicines as sold\n",
    "    for med_doc in med_docs:\n",
    "        med_doc.update({'sold': True})\n",
    "\n",
    "    print(\"The patient successfully bought medicines\")\n",
    "    return bill.ref, med_docs"
   ]
  },
  {
   "cell_type": "markdown",
   "metadata": {
    "colab_type": "text",
    "id": "MJXga6DUMqY-"
   },
   "source": [
    "**imitate the patient buying the medicines listed in a prescription**"
   ]
  },
  {
   "cell_type": "code",
   "execution_count": 35,
   "metadata": {
    "colab": {
     "base_uri": "https://localhost:8080/",
     "height": 35
    },
    "colab_type": "code",
    "id": "M4zHqQGOvym_",
    "outputId": "3202fc17-6e2c-4cd2-c32a-4b0cfa953e3c"
   },
   "outputs": [
    {
     "name": "stdout",
     "output_type": "stream",
     "text": [
      "The patient successfully bought medicines\n"
     ]
    }
   ],
   "source": [
    "bill_ref, med_refs = buy_medicines(db, prescr_ref)"
   ]
  },
  {
   "cell_type": "code",
   "execution_count": 36,
   "metadata": {
    "colab": {
     "base_uri": "https://localhost:8080/",
     "height": 381
    },
    "colab_type": "code",
    "id": "fnzuc3DkvykX",
    "outputId": "b4b62007-7cce-410e-f125-c960d1142d59"
   },
   "outputs": [
    {
     "name": "stdout",
     "output_type": "stream",
     "text": [
      "{'buyer': <google.cloud.firestore_v1.document.DocumentReference object at 0x7f8ac9289630>,\n",
      " 'date': DatetimeWithNanoseconds(2019, 4, 24, 10, 37, 27, 157508, tzinfo=<UTC>),\n",
      " 'medList': [<google.cloud.firestore_v1.document.DocumentReference object at 0x7f8ac9289470>,\n",
      "             <google.cloud.firestore_v1.document.DocumentReference object at 0x7f8ac9289128>,\n",
      "             <google.cloud.firestore_v1.document.DocumentReference object at 0x7f8ac9289358>]}\n",
      "\n",
      "{'expDate': DatetimeWithNanoseconds(2019, 5, 12, 16, 32, 15, tzinfo=<UTC>),\n",
      " 'name': 'Zivox',\n",
      " 'price': 220,\n",
      " 'quantity': '62 unit(s)',\n",
      " 'sold': True}\n",
      "{'expDate': DatetimeWithNanoseconds(2019, 5, 25, 21, 0, tzinfo=<UTC>),\n",
      " 'name': 'Azue',\n",
      " 'price': '120',\n",
      " 'quantity': '25ml',\n",
      " 'sold': True}\n",
      "{'expDate': DatetimeWithNanoseconds(2019, 7, 21, 5, 23, 43, tzinfo=<UTC>),\n",
      " 'name': 'Citramon',\n",
      " 'price': 20,\n",
      " 'quantity': '97 unit(s)',\n",
      " 'sold': True}\n"
     ]
    }
   ],
   "source": [
    "print_dict(bill_ref.get())\n",
    "print()\n",
    "print_dicts([doc.get() for doc in med_refs])"
   ]
  },
  {
   "cell_type": "code",
   "execution_count": 37,
   "metadata": {
    "colab": {},
    "colab_type": "code",
    "id": "zwJCTIKuvyhu"
   },
   "outputs": [],
   "source": [
    "for doc in med_refs:\n",
    "    doc.update({'sold': False})"
   ]
  },
  {
   "cell_type": "code",
   "execution_count": 0,
   "metadata": {
    "colab": {},
    "colab_type": "code",
    "id": "UNqg82aUvs6T"
   },
   "outputs": [],
   "source": []
  }
 ],
 "metadata": {
  "colab": {
   "collapsed_sections": [],
   "name": "DMD Project Presentation.ipynb",
   "provenance": [],
   "version": "0.3.2"
  },
  "kernelspec": {
   "display_name": "Python 3",
   "language": "python",
   "name": "python3"
  },
  "language_info": {
   "codemirror_mode": {
    "name": "ipython",
    "version": 3
   },
   "file_extension": ".py",
   "mimetype": "text/x-python",
   "name": "python",
   "nbconvert_exporter": "python",
   "pygments_lexer": "ipython3",
   "version": "3.6.8"
  }
 },
 "nbformat": 4,
 "nbformat_minor": 1
}
